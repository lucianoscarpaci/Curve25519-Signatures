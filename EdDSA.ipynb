{
 "cells": [
  {
   "cell_type": "code",
   "execution_count": 10,
   "id": "2c17db7f-8a8b-4fd4-8687-6d9e9082bed8",
   "metadata": {},
   "outputs": [],
   "source": [
    "import hashlib\n",
    "import binascii\n",
    "import os"
   ]
  },
  {
   "cell_type": "markdown",
   "id": "d6a1f978-c8a5-4b0c-a550-736c5e2b028c",
   "metadata": {},
   "source": [
    "### Helper functions"
   ]
  },
  {
   "cell_type": "code",
   "execution_count": 111,
   "id": "5631cfb7-071c-432d-ba7e-b639bcf87107",
   "metadata": {},
   "outputs": [],
   "source": [
    "def Integer_to_bytes(s, nbytes):\n",
    "    return int.to_bytes(int(s), nbytes, \"little\")\n",
    "\n",
    "def Integer_from_bytes(s):\n",
    "    return Integer(int.from_bytes(s, \"little\"))\n",
    "# Adds the two points P and Q and gives the result\n",
    "# in the coordinates\n",
    "def point_add(P, Q):\n",
    "    A = (P[1] - P[0]) * (Q[1] - Q[0]) % p\n",
    "    B = (P[1] + P[0]) * (Q[1] + Q[0]) % p\n",
    "    C = 2 * P[3] * Q[3] * d % p\n",
    "    D = 2 * P[2] * Q[2] % p\n",
    "    E, F, G, H = B - A, D - C, D + C, B + A\n",
    "    return (E * F, G * H, F * G, E * H)\n",
    "# Multiplies s with point P and gives the result\n",
    "# in the coordinates\n",
    "def point_mul(s, P):\n",
    "    Q = (0, 1, 1, 0)\n",
    "    for bit in Integer(s).bits():\n",
    "        if bit:\n",
    "            Q = point_add(Q, P)\n",
    "        P = point_add(P, P)\n",
    "    return Q\n",
    "# recovers x-coordinates of a point on the curve\n",
    "# from the y-coordinates.\n",
    "def recover_x(y, sign):\n",
    "    x2 = (y^2-1) * (d*y^2+1)^-1\n",
    "    x = sqrt(x2)\n",
    "    if Integer(x).bits()[0] != sign:\n",
    "        return -x\n",
    "    else:\n",
    "        return x\n",
    "# returns hashed secret key and the upper 32\n",
    "# bytes of the sha512 hash\n",
    "def secret_expand(S):\n",
    "    h = hashlib.sha512(S).digest()\n",
    "    a = Integer_from_bytes(h[:32])\n",
    "    a &= 2^254 - 8\n",
    "    a |= 2^254\n",
    "    return (a, h[32:])\n",
    "\n",
    "def point_equal(P, Q):\n",
    "    if (P[0] * Q[2] - Q[0] * P[2]) % p != 0:\n",
    "        return False\n",
    "    if (P[1] * Q[2] - Q[1] * P[2]) % p != 0:\n",
    "        return False\n",
    "    return True"
   ]
  },
  {
   "cell_type": "markdown",
   "id": "b7c786dd-5018-408c-bfbc-b73e53dd9515",
   "metadata": {},
   "source": [
    "## Point addition"
   ]
  },
  {
   "cell_type": "code",
   "execution_count": 15,
   "id": "483553c6-5c8f-414e-9f2f-2409cbc86457",
   "metadata": {},
   "outputs": [
    {
     "name": "stdout",
     "output_type": "stream",
     "text": [
      "Point addition (12246746044957381706561499803493136934360282763281958624921836758123273160092, 45261948119838604227591840818660755853614106905203869154805153290552271130918, 4639372086675119516775102087422346591749431038861670617759518883504447227352, 27968)\n"
     ]
    }
   ],
   "source": [
    "p = 2**255 - 19\n",
    "d = -121665 * pow(121666, p - 2, p) % p\n",
    "P = (9, 5, 1, 1)\n",
    "Q = (4, 8, 1, 1)\n",
    "result = point_add(P, Q, d, p)\n",
    "print(f\"Point addition {result}\")"
   ]
  },
  {
   "cell_type": "markdown",
   "id": "d007fc7f-a2e3-4867-b5a4-5c34ed7361a4",
   "metadata": {},
   "source": [
    "## Initialization"
   ]
  },
  {
   "cell_type": "code",
   "execution_count": 112,
   "id": "7e2d022c-b9c2-4ce2-95c5-839c680fab1e",
   "metadata": {},
   "outputs": [],
   "source": [
    "message = \"Crypto\"\n",
    "m = message.encode()\n",
    "p = 2**255 - 19\n",
    "GFp = GF(p)\n",
    "d = GFp(-121665 * 121666**-1)\n",
    "q = 2**252 + 27742317777372353535851937790883648493"
   ]
  },
  {
   "cell_type": "code",
   "execution_count": 113,
   "id": "6246baf3-5bd2-46fd-8bbe-4f1591ba8110",
   "metadata": {},
   "outputs": [
    {
     "data": {
      "text/plain": [
       "'0x46316835694926478169428394003475163141307993866256225615783033603165251855960'"
      ]
     },
     "execution_count": 113,
     "metadata": {},
     "output_type": "execute_result"
    }
   ],
   "source": [
    "g_y = GFp(4 * 5**-1)\n",
    "g_y = \"0x\" + str(g_y)\n",
    "g_y"
   ]
  },
  {
   "cell_type": "code",
   "execution_count": 114,
   "id": "2f2e8b25-7314-4ed1-82bd-0ad70a02d3ef",
   "metadata": {},
   "outputs": [],
   "source": [
    "g_y = GFp(4 * 5**-1)"
   ]
  },
  {
   "cell_type": "code",
   "execution_count": 115,
   "id": "bb392884-5aa9-40bc-9082-25b18d15ce29",
   "metadata": {},
   "outputs": [
    {
     "data": {
      "text/plain": [
       "'0x15112221349535400772501151409588531511454012693041857206046113283949847762202'"
      ]
     },
     "execution_count": 115,
     "metadata": {},
     "output_type": "execute_result"
    }
   ],
   "source": [
    "g_x = recover_x(g_y, 0)\n",
    "g_x = \"0x\" + str(g_x)\n",
    "g_x"
   ]
  },
  {
   "cell_type": "code",
   "execution_count": 116,
   "id": "c668522b-6d1a-42e5-897f-4982925cdf60",
   "metadata": {},
   "outputs": [],
   "source": [
    "g_x = recover_x(g_y, 0)"
   ]
  },
  {
   "cell_type": "code",
   "execution_count": 117,
   "id": "bf056447-18ac-4612-8ddd-8eb80845006a",
   "metadata": {},
   "outputs": [
    {
     "data": {
      "text/plain": [
       "(15112221349535400772501151409588531511454012693041857206046113283949847762202,\n",
       " 46316835694926478169428394003475163141307993866256225615783033603165251855960,\n",
       " 1,\n",
       " 46827403850823179245072216630277197565144205554125654976674165829533817101731)"
      ]
     },
     "execution_count": 117,
     "metadata": {},
     "output_type": "execute_result"
    }
   ],
   "source": [
    "G = (g_x, g_y, 1, g_x * g_y % p)\n",
    "G"
   ]
  },
  {
   "cell_type": "markdown",
   "id": "25e582cc-430b-48bf-ad63-00e1f523b9cc",
   "metadata": {},
   "source": [
    "## Key Generation"
   ]
  },
  {
   "cell_type": "code",
   "execution_count": 1,
   "id": "11a96d77-d000-46f7-b174-244a11cd613f",
   "metadata": {},
   "outputs": [
    {
     "name": "stdout",
     "output_type": "stream",
     "text": [
      "Collecting cryptography\n",
      "  Downloading cryptography-43.0.1-cp39-abi3-manylinux_2_28_x86_64.whl.metadata (5.4 kB)\n",
      "Requirement already satisfied: cffi>=1.12 in ./sage/local/var/lib/sage/venv-python3.12.4/lib/python3.12/site-packages (from cryptography) (1.15.1)\n",
      "Requirement already satisfied: pycparser in ./sage/local/var/lib/sage/venv-python3.12.4/lib/python3.12/site-packages (from cffi>=1.12->cryptography) (2.22)\n",
      "Downloading cryptography-43.0.1-cp39-abi3-manylinux_2_28_x86_64.whl (4.0 MB)\n",
      "\u001b[2K   \u001b[90m━━━━━━━━━━━━━━━━━━━━━━━━━━━━━━━━━━━━━━━━\u001b[0m \u001b[32m4.0/4.0 MB\u001b[0m \u001b[31m6.2 MB/s\u001b[0m eta \u001b[36m0:00:00\u001b[0m00:01\u001b[0m00:01\u001b[0m\n",
      "\u001b[?25hInstalling collected packages: cryptography\n",
      "Successfully installed cryptography-43.0.1\n",
      "\n",
      "\u001b[1m[\u001b[0m\u001b[34;49mnotice\u001b[0m\u001b[1;39;49m]\u001b[0m\u001b[39;49m A new release of pip is available: \u001b[0m\u001b[31;49m24.0\u001b[0m\u001b[39;49m -> \u001b[0m\u001b[32;49m24.2\u001b[0m\n",
      "\u001b[1m[\u001b[0m\u001b[34;49mnotice\u001b[0m\u001b[1;39;49m]\u001b[0m\u001b[39;49m To update, run: \u001b[0m\u001b[32;49mpip install --upgrade pip\u001b[0m\n"
     ]
    }
   ],
   "source": [
    "!pip install cryptography"
   ]
  },
  {
   "cell_type": "code",
   "execution_count": 56,
   "id": "1c04aae4-1579-4fbd-b3f3-789fe8085058",
   "metadata": {},
   "outputs": [
    {
     "name": "stdout",
     "output_type": "stream",
     "text": [
      "<cryptography.hazmat.bindings._rust.openssl.x25519.X25519PrivateKey object at 0x7f2060515370>\n",
      "0xd486c40246503e35f5066700d7845ab40e62f85196efcb4a130f00461212d560\n"
     ]
    }
   ],
   "source": [
    "from cryptography.hazmat.primitives.asymmetric import x25519\n",
    "from cryptography.hazmat.primitives import serialization\n",
    "import hashlib\n",
    "sk = x25519.X25519PrivateKey.generate()\n",
    "print(sk)\n",
    "pk = sk.public_key()\n",
    "pk_bytes = pk.public_bytes(\n",
    "    encoding=serialization.Encoding.Raw,\n",
    "    format=serialization.PublicFormat.Raw\n",
    ")\n",
    "print(\"0x\" + pk_bytes.hex())"
   ]
  },
  {
   "cell_type": "code",
   "execution_count": 54,
   "id": "7b34e5a9-b6a5-489e-b7d9-f2b685b10363",
   "metadata": {},
   "outputs": [],
   "source": [
    "def point_compress(pk):\n",
    "    return pk.public_bytes(\n",
    "        encoding=serialization.Encoding.Raw,\n",
    "        format=serialization.PublicFormat.Raw,\n",
    "    )"
   ]
  },
  {
   "cell_type": "markdown",
   "id": "0609cdfc-6f2e-4a60-adc7-73ba9967511e",
   "metadata": {},
   "source": [
    "## Signature and Verification"
   ]
  },
  {
   "cell_type": "code",
   "execution_count": 55,
   "id": "1cdc0693-5c50-402b-9d3d-5699d7aeaa5e",
   "metadata": {},
   "outputs": [
    {
     "name": "stdout",
     "output_type": "stream",
     "text": [
      "r = 0xc3f5439ac9b37a2310187e702d22ee7803d26a7644ea5c7a9d65bdfb0bb1e55c\n",
      "s = 0x220a280488c53860f7c144c00ff55a41e8121221b2370e1962f100da6fd00273\n",
      "32\n",
      "32\n"
     ]
    }
   ],
   "source": [
    "def signature(message):\n",
    "    prefix = b'Crypto'\n",
    "    h1 = hashlib.sha512(prefix + message).digest()\n",
    "    # sha512 hash was successful\n",
    "    # Compute the integer from the hash\n",
    "    R = int.from_bytes(h1, byteorder=\"little\") % (2**255 - 19)\n",
    "    nonce = os.urandom(32)\n",
    "    r = hashlib.sha512(nonce + message).digest()\n",
    "    # Compress the r point\n",
    "    r_bytes = point_compress(pk)\n",
    "    # Hash with sha512 again, with compressed point and message\n",
    "    h2 = hashlib.sha512(r_bytes + r + message).digest()\n",
    "    h_int = int.from_bytes(h2, byteorder=\"little\") % (2**255 - 19)\n",
    "    # Compute the signature\n",
    "    s = (R + h_int * int.from_bytes(r, \"little\")) % (2**255 - 19)\n",
    "    # verification\n",
    "    signature = (r_bytes, s.to_bytes(32, \"little\"))\n",
    "    # Print signature\n",
    "    return r_bytes, s.to_bytes(32, \"little\")\n",
    "\n",
    "m = b\"Crypto\"\n",
    "r, s, = signature(m)\n",
    "print(f\"r = 0x{r.hex()}\")\n",
    "print(f\"s = 0x{s.hex()}\")\n",
    "print(len(r))\n",
    "print(len(s))"
   ]
  },
  {
   "cell_type": "markdown",
   "id": "10da2ff7-eb92-4f00-8670-22a7a4858159",
   "metadata": {},
   "source": [
    "## Points and Signature values"
   ]
  },
  {
   "cell_type": "markdown",
   "id": "4adce494-873a-419c-8b98-a07b11320a04",
   "metadata": {},
   "source": [
    "**Base Point (G)**:\n",
    "\n",
    "- G_x = 0x15112221349535400772501151409588531511454012693041857206046113283949847762202 \n",
    "- G_y = 0x46316835694926478169428394003475163141307993866256225615783033603165251855960\n",
    "  \n",
    "**Private Key (sk)**: \n",
    "    - \\( sk = cryptography.hazmat.bindings._rust.openssl.x25519.X25519PrivateKey object at 0x7f20780c2eb0 \\)\n",
    "  \n",
    "**Public Key (pk)**: \n",
    "    - \\( pk = 0xd486c40246503e35f5066700d7845ab40e62f85196efcb4a130f00461212d560 \\)\n",
    "\n",
    "### Signature:\n",
    "- \\( r = 0xc3f5439ac9b37a2310187e702d22ee7803d26a7644ea5c7a9d65bdfb0bb1e55c \\)\n",
    "- \\( s = 0x220a280488c53860f7c144c00ff55a41e8121221b2370e1962f100da6fd00273 \\)"
   ]
  },
  {
   "cell_type": "code",
   "execution_count": null,
   "id": "48206092-ce80-49dd-9b89-4539b0fce8f3",
   "metadata": {},
   "outputs": [],
   "source": []
  }
 ],
 "metadata": {
  "kernelspec": {
   "display_name": "Python 3 (ipykernel)",
   "language": "python",
   "name": "python3"
  },
  "language_info": {
   "codemirror_mode": {
    "name": "ipython",
    "version": 3
   },
   "file_extension": ".py",
   "mimetype": "text/x-python",
   "name": "python",
   "nbconvert_exporter": "python",
   "pygments_lexer": "ipython3",
   "version": "3.12.4"
  }
 },
 "nbformat": 4,
 "nbformat_minor": 5
}
